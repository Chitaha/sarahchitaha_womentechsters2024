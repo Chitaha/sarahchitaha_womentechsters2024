{
 "cells": [
  {
   "cell_type": "markdown",
   "id": "d9e4a41f-1764-45bc-b882-49b94fb67e57",
   "metadata": {},
   "source": [
    "\n",
    "# Software Development – List, Tuple \n",
    "\n",
    "## Python programming exercises\n"
   ]
  },
  {
   "cell_type": "markdown",
   "id": "9aeb5705-13c1-41a1-8146-509a00acf6ae",
   "metadata": {},
   "source": [
    "1. Write a program that finds the maximum value of the given list, assuming that the list contains at least one element. Try your program with the following array \n",
    "\n",
    "| 2 | 4 | 7 | 4 | 23 | 5 | 1 | 4 | 8 | 9 |\n",
    "|-|-|-|-|-|-|-|-|-|-|\n",
    " "
   ]
  },
  {
   "cell_type": "markdown",
   "id": "4a01ac5d-0636-4fa3-a8d8-7d1ba53e0734",
   "metadata": {},
   "source": [
    "2. Write a program that calculates the average value of the given list. Try your program with the following list\n",
    "4 7 1 5 11 53 12 46 84 23\n"
   ]
  },
  {
   "cell_type": "markdown",
   "id": "7b7e25b0-f63c-42b6-843c-71a43d18e8b0",
   "metadata": {},
   "source": [
    "3. Write a program that prints the given list of integers in reverse order. Try your program with the following list\n",
    "2 6 7 45 23 53 14 45 89 5\n"
   ]
  },
  {
   "cell_type": "markdown",
   "id": "79d227b0-1f48-4d4e-8516-da4d4d651545",
   "metadata": {},
   "source": [
    "4. Write a program that accepts two lists of integers and prints true if each element in the first list is less than the element at the same index in the second list. Your program should print false if the lists are not the same length.\n"
   ]
  },
  {
   "cell_type": "markdown",
   "id": "531f4afb-c856-4f3b-95e2-183eff4153d9",
   "metadata": {},
   "source": [
    "5. Write a program that accepts a list of integers and two indexes and swaps the elements at those indexes\n"
   ]
  },
  {
   "cell_type": "markdown",
   "id": "54c27a3b-5742-465f-a0bf-5ac959661ead",
   "metadata": {},
   "source": [
    "6. Write a program that accepts two lists of integers and prints a new list containing all elements of the first list followed by all elements of the second.\n"
   ]
  },
  {
   "cell_type": "markdown",
   "id": "09964d90-07ca-4a93-bf02-4b8d3bdf857e",
   "metadata": {},
   "source": [
    "7. Write a program that accepts a list of integers and an integer value as its parameters and prints the last index at which the value occurs in the list. The program should print –1 if the value is not found. For example, in the list [74, 85, 102, 99, 101, 85, 56], the last index of the value 85 is 5.\n"
   ]
  },
  {
   "cell_type": "markdown",
   "id": "299e31bd-6df1-4e00-a674-666f31f5ac78",
   "metadata": {},
   "source": [
    "8. Write a program that prints the range of values in a list of integers. The range is defined as 1 more than the difference between the maximum and minimum values in the list. For example, if a list contains the values [36, 12, 25, 19, 46, 31, 22], the program should return 35. You may assume that the list has at least one element.\n",
    "\n"
   ]
  },
  {
   "cell_type": "markdown",
   "id": "b4386864-574c-4d58-90c2-77557df5b8e5",
   "metadata": {},
   "source": [
    "9. Write a program that accepts a list of integers, a minimum value, and a maximum value and prints the count of how many elements from the list fall between the minimum and maximum (inclusive). For example, in the list [14, 1, 22, 17, 36, 7, -43, 5], for minimum value 4 and maximum value 17, there are four elements whose values fall between 4 and 17.\n"
   ]
  },
  {
   "cell_type": "markdown",
   "id": "6f7ef34a-36e6-48cf-a939-74e5539501d7",
   "metadata": {},
   "source": [
    "10. Write a program that accepts a list of real numbers and prints true if the list is in sorted (nondecreasing) order and false otherwise. For example, if lists named list1 and list2 store [16.1, 12.3, 22.2, 14.4] and [1.5, 4.3, 7.0, 19.5, 25.1, 46.2] respectively, the program should print false for list1 and true for list2 respectively. Assume the list has at least one element. A one-element list is sorted.\n"
   ]
  },
  {
   "cell_type": "code",
   "execution_count": null,
   "id": "c45334bd-23ef-4c8f-809c-17de3d1f5037",
   "metadata": {},
   "outputs": [],
   "source": []
  },
  {
   "cell_type": "code",
   "execution_count": null,
   "id": "5e718b1e-85ea-43c8-91b9-3c24aede64f1",
   "metadata": {},
   "outputs": [],
   "source": []
  },
  {
   "cell_type": "code",
   "execution_count": null,
   "id": "a4409628-285d-49a6-a84f-d3e84792f49c",
   "metadata": {},
   "outputs": [],
   "source": []
  },
  {
   "cell_type": "code",
   "execution_count": null,
   "id": "a9715902-3a25-4ca5-a5ad-770e920545af",
   "metadata": {},
   "outputs": [],
   "source": []
  }
 ],
 "metadata": {
  "kernelspec": {
   "display_name": "Python 3 (ipykernel)",
   "language": "python",
   "name": "python3"
  },
  "language_info": {
   "codemirror_mode": {
    "name": "ipython",
    "version": 3
   },
   "file_extension": ".py",
   "mimetype": "text/x-python",
   "name": "python",
   "nbconvert_exporter": "python",
   "pygments_lexer": "ipython3",
   "version": "3.9.13"
  }
 },
 "nbformat": 4,
 "nbformat_minor": 5
}
