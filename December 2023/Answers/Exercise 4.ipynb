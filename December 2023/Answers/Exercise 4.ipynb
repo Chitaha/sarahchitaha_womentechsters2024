{
 "cells": [
  {
   "cell_type": "markdown",
   "id": "99f39638-c29f-45db-b8b5-1d3f3a8522bc",
   "metadata": {},
   "source": [
    "\n",
    "# Software Development - Session 1B\n",
    "## Python programming exercises\n"
   ]
  },
  {
   "cell_type": "markdown",
   "id": "a47ba77b-310b-49b8-ab8e-50ab0922e571",
   "metadata": {},
   "source": [
    "1. Write a program to produce the following output using for loop\n",
    "+----+ \\/ /\\ \\/ /\\ \\/ /\\ +----+\n"
   ]
  },
  {
   "cell_type": "markdown",
   "id": "e75b7b14-9554-42be-b16f-4ccd47149f18",
   "metadata": {},
   "source": [
    "2. Write a program to produce the following output using for loop\n",
    "  **********\n",
    "  **********\n",
    "  **********\n",
    "  **********\n",
    "  **********\n"
   ]
  },
  {
   "cell_type": "markdown",
   "id": "47a49606-b558-4821-a260-cbd58b7470f3",
   "metadata": {},
   "source": [
    "3. Complete the code for the following for loop:\n",
    "  for in range(1,7):\n",
    "        //your code here\n",
    "so that it prints the following numbers, one per line:\n",
    "\n",
    "a) 1 b) 2 c) 4 d) 30 e) -7 f) 97 g) -4 2 4 19 20 -3 94 14 3 6 34 10 1 91 32 4 8 49 0 5 88 50 5 10 64 -10 9 85 68 6 12 79 -20 13 82 86\n"
   ]
  },
  {
   "cell_type": "markdown",
   "id": "c405b89c-9f36-4f1e-9cbc-80b62aad8a82",
   "metadata": {},
   "source": [
    "4. Write a program to produce the following output using for loops. Then use a class constant to make it possible to change the number of lines in the figure.\n",
    "  1\n",
    "  22\n",
    "  333\n",
    "  4444\n",
    "  55555\n",
    "  666666\n",
    "  7777777\n"
   ]
  },
  {
   "cell_type": "markdown",
   "id": "783f07d7-861c-4596-a738-d1ae33e40625",
   "metadata": {},
   "source": [
    "5. Write a method named pay that accepts two parameters: a real number for a TA's salary, and an integer for the number of hours the TA worked this week. The method should return how much money to pay the TA. For example, the call\n",
    "pay(5.50, 6)\n",
    "should return 33.0.\n",
    "The TA should receive \"overtime\" pay of 1 1⁄2 normal salary for any hours above 8. For example, the call pay(4.00, 11) should return (4.00 * 8) + (6.00 * 3) or 50.0.\n",
    "\n"
   ]
  },
  {
   "cell_type": "markdown",
   "id": "2eedb52e-d71b-471e-8a2e-609c3268e465",
   "metadata": {},
   "source": [
    "6. Consider the following method for converting milliseconds into days:\n",
    "   // converts milliseconds to days\n",
    "   def toDays(millis):\n",
    "       return millis / 1000.0 / 60.0 / 60.0 / 24.0\n",
    "Write a similar method named area that takes as a parameter the radius of a circle and that returns the area of the circle. For example, the call\n",
    "area(2.0);\n",
    "should return 12.566370614359172.\n",
    "Recall that area can be computed as π times the radius squared and that Python has a constant called math.pi\n"
   ]
  },
  {
   "cell_type": "markdown",
   "id": "f0bf8a28-f5c7-4b60-a7a5-eca6e9ec075a",
   "metadata": {},
   "source": [
    "7. Copy and paste the following code into pythons IDLE script environment.\n",
    "            low = 1\n",
    "            high = 1001\n",
    "            sum = 0\n",
    "            for i in range(low,high):\n",
    "               sum += i\n",
    "           print(\"sum = \" , sum)\n",
    "Modify the code to use a input to prompt the user for the values of low and high. Below is a sample execution in which the user asks for the same values as in the original program (1 through 1000):\n",
    "   low? 1\n",
    "   high? 1001\n",
    "   sum = 500500\n",
    "Below is an execution with different values for low and high:\n",
    "   low? 300\n",
    "   high? 5298\n",
    "   sum = 13986903\n",
    "You should exactly reproduce this format.\n"
   ]
  },
  {
   "cell_type": "markdown",
   "id": "b7fc5dec-3f8b-4014-8cf9-0c9dc117c5c1",
   "metadata": {},
   "source": [
    "8. Write a program using while loop that prompts the user for numbers until the user types 0, then outputs their sum.\n",
    "\n"
   ]
  },
  {
   "cell_type": "markdown",
   "id": "f8c633e3-0f92-4043-97cc-9bc2dc749729",
   "metadata": {},
   "source": [
    "9. Write a program using while loop that prompts the user for numbers until the user types -1, then outputs their sum.\n"
   ]
  },
  {
   "cell_type": "markdown",
   "id": "53bd7c8f-2172-40f5-b5ff-298fffb13369",
   "metadata": {},
   "source": [
    "10.Write a method named repl that accepts a String and a number of repetitions as parameters and returns the String concatenated that many times. For example, the call repl(\"hello\", 3) returns \"hellohellohello\". If the number of repetitions is 0 or less, an empty string is returned.\n"
   ]
  },
  {
   "cell_type": "markdown",
   "id": "bfcb2f85-1f6b-48e7-ae46-832138550d25",
   "metadata": {},
   "source": [
    "11.Write a method called printRange that accepts two integers as arguments and prints the sequence of numbers between the two arguments, separated by spaces. Print an increasing sequence if the first argument is smaller than the second; otherwise, print a decreasing sequence. If the two numbers are the same, that number should be printed by itself. Here are some sample calls to printRange:\n",
    "printRange(2, 7)\n",
    "printRange(19, 11) printRange(5, 5)\n",
    "The output produced should be the following: 234567\n",
    "  19 18 17 16 15 14 13 12 11\n",
    "5\n"
   ]
  },
  {
   "cell_type": "markdown",
   "id": "25131f04-d1df-4e0b-ab5c-8ac34d36478d",
   "metadata": {},
   "source": [
    "12.Write a method named smallestLargest that asks the user to enter numbers, then prints the smallest and largest of all the numbers typed in by the user. You may assume the user enters a valid number greater than 0 for the number of numbers to read. Here is an example dialogue:\n",
    "  How many numbers do you want to enter? 4\n",
    "  Number 1: 5\n",
    "  Number 2: 11\n",
    "  Number 3: -2\n",
    "  Number 4: 3\n",
    "  Smallest = -2\n",
    "\n",
    "Largest = 11\n"
   ]
  },
  {
   "cell_type": "markdown",
   "id": "b8201f6d-8945-41af-b2b1-13dc61875cc0",
   "metadata": {},
   "source": [
    "13.Write a method called printAverage that uses a sentinel loop to repeatedly prompt the user for numbers. Once the user types any number less than zero, the method should display the average of all nonnegative numbers typed. Display the average as a double. Here is a sample dialogue with the user:\n",
    "  Type a number: 7\n",
    "  Type a number: 4\n",
    "  Type a number: 16\n",
    "  Type a number: –4\n",
    "  Average was 9.0\n",
    "If the first number that the user types is negative, do not print an average:\n",
    "  Type a number: –2\n"
   ]
  },
  {
   "cell_type": "markdown",
   "id": "ae09bae0-377b-4c99-beef-0bdc12fd5e98",
   "metadata": {},
   "source": [
    "14.Write a method named numUnique that takes three integers as parameters and returns the number of unique integers among the three. For example, the call numUnique(18, 3, 4) should return 3 because the parameters have three different values. By contrast, the call numUnique(6, 7, 6) should return 2 because there are only two unique numbers among the threeparameters:6 and7.\n"
   ]
  },
  {
   "cell_type": "markdown",
   "id": "943c9870-7820-4038-8511-49b9dff205f9",
   "metadata": {},
   "source": [
    "15.A Random object generates pseudo-random numbers. Find out how to use the Random class and write a program that simulates rolling of two 6- sided dice until their combined result comes up as 7. One possible output can be seen as below:\n",
    "2+4=6\n",
    "3+5=8\n",
    "5 + 6 = 11\n",
    "1+1=2\n",
    "4+3=7\n",
    "You won after 5 tries!\n"
   ]
  },
  {
   "cell_type": "markdown",
   "id": "67ed2f6f-8e86-4be1-94c5-8c4cc7d1cb9e",
   "metadata": {},
   "source": []
  },
  {
   "cell_type": "markdown",
   "id": "7f5ccf82-8abb-497e-85fe-aa14008de819",
   "metadata": {},
   "source": []
  },
  {
   "cell_type": "markdown",
   "id": "17f56a74-820a-4ffc-9526-ce84f58fe238",
   "metadata": {},
   "source": []
  },
  {
   "cell_type": "markdown",
   "id": "bf63791f-9bf5-4266-ab83-907a06d22eb1",
   "metadata": {},
   "source": []
  },
  {
   "cell_type": "markdown",
   "id": "bbc7c507-72d9-47e1-8f05-6d4c23fe780d",
   "metadata": {},
   "source": []
  },
  {
   "cell_type": "markdown",
   "id": "11441086-765a-4631-ba80-b8275b5ef989",
   "metadata": {},
   "source": []
  },
  {
   "cell_type": "markdown",
   "id": "67317a6c-dda7-4705-99b1-ad63948c72c5",
   "metadata": {},
   "source": []
  },
  {
   "cell_type": "markdown",
   "id": "2fd42248-4de1-430b-ba04-47377699fdae",
   "metadata": {},
   "source": []
  }
 ],
 "metadata": {
  "kernelspec": {
   "display_name": "Python 3 (ipykernel)",
   "language": "python",
   "name": "python3"
  },
  "language_info": {
   "codemirror_mode": {
    "name": "ipython",
    "version": 3
   },
   "file_extension": ".py",
   "mimetype": "text/x-python",
   "name": "python",
   "nbconvert_exporter": "python",
   "pygments_lexer": "ipython3",
   "version": "3.9.13"
  }
 },
 "nbformat": 4,
 "nbformat_minor": 5
}
